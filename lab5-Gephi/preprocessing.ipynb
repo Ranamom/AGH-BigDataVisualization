{
 "cells": [
  {
   "cell_type": "code",
   "execution_count": 1,
   "metadata": {},
   "outputs": [],
   "source": [
    "import numpy as np\n",
    "import pandas as pd\n",
    "from sklearn.neighbors import NearestNeighbors"
   ]
  },
  {
   "cell_type": "code",
   "execution_count": 2,
   "metadata": {},
   "outputs": [],
   "source": [
    "K = 40\n",
    "SAMPLE = 4000\n",
    "LABELS = {\n",
    "    0: 'T-shirt/top',\n",
    "    1: 'Trouser',\n",
    "    2: 'Pullover',\n",
    "    3: 'Dress',\n",
    "    4: 'Coat',\n",
    "    5: 'Sandal',\n",
    "    6: 'Shirt',\n",
    "    7: 'Sneaker',\n",
    "    8: 'Bag',\n",
    "    9: 'Ankle boot' \n",
    "}"
   ]
  },
  {
   "cell_type": "code",
   "execution_count": 3,
   "metadata": {},
   "outputs": [],
   "source": [
    "# load random sample\n",
    "df = pd.read_csv('data/fashion-mnist_test.csv', delimiter=',').sample(SAMPLE)"
   ]
  },
  {
   "cell_type": "code",
   "execution_count": 7,
   "metadata": {},
   "outputs": [],
   "source": [
    "# create nodes file\n",
    "with open('data/fashion.nodes.csv', 'w') as f:\n",
    "    f.write('Id,Label,Class\\n')\n",
    "    \n",
    "    for index, row in df.iterrows():\n",
    "        f.write(f'{index},{LABELS[row[\"label\"]]},{row[\"label\"]}\\n')"
   ]
  },
  {
   "cell_type": "code",
   "execution_count": 5,
   "metadata": {},
   "outputs": [],
   "source": [
    "# generate K+1 nearest neighbours\n",
    "knn = NearestNeighbors(n_neighbors=K+1, algorithm='auto').fit(df)\n",
    "neighbors = knn.kneighbors(df, return_distance=False)"
   ]
  },
  {
   "cell_type": "code",
   "execution_count": 6,
   "metadata": {},
   "outputs": [],
   "source": [
    "# create edges file\n",
    "with open('data/fashion.edges.csv', 'w') as f:\n",
    "    #f.write('Source,Target\\n')\n",
    "    \n",
    "    for i in range(len(neighbors)):\n",
    "        nodes = [str(df.iloc[j].name) for j in neighbors[i] if i != j]\n",
    "        f.write(f'{df.iloc[i].name},{\",\".join(nodes)}\\n')"
   ]
  },
  {
   "cell_type": "code",
   "execution_count": null,
   "metadata": {},
   "outputs": [],
   "source": []
  }
 ],
 "metadata": {
  "kernelspec": {
   "display_name": "Python 3",
   "language": "python",
   "name": "python3"
  },
  "language_info": {
   "codemirror_mode": {
    "name": "ipython",
    "version": 3
   },
   "file_extension": ".py",
   "mimetype": "text/x-python",
   "name": "python",
   "nbconvert_exporter": "python",
   "pygments_lexer": "ipython3",
   "version": "3.7.3"
  }
 },
 "nbformat": 4,
 "nbformat_minor": 2
}
